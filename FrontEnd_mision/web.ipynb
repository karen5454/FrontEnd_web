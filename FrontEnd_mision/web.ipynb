{
 "cells": [
  {
   "cell_type": "markdown",
   "metadata": {},
   "source": [
    "Prácticas de Introducción a Frontend\n",
    "\n",
    "\n",
    "Para las practicas de esta semana tendran el siguiente caso ya raiz de eso sacar los puntos mencionados abajo.\n",
    "\n",
    "Caso: Abogabot Descripción:\n",
    "\n",
    "Es un despacho de abogados que quiere automatizar las demandas de sus clientes, esto lo hará a través de una página web llenando un formulario.\n",
    "\n",
    "Al momento de llenar el formulario se manda al proceso de pago para finalizar la transacción.\n",
    "\n",
    "Para dar seguimiento a su demanda, el cliente crea una cuenta en la plataforma y verá el seguimiento de cada una de las actualizaciones del proceso legal.\n",
    "\n",
    "El administrador del sitio recbe la notificacion de una nueva demanda y con los datos llenados del formulario se crea automaticamente el documento legal en formato word para empezar el proceso.\n",
    "\n",
    "El administrador recibe el pago y debe ser capaz de verlo en un tablero para ver la cantidad de ingresos recibidos.\n",
    "\n",
    "El administrador actualiza el proceso de la demanda y agrega comentarios en cada paso del proceso.\n",
    "\n",
    "Al usuario le llegan correos de notificacion para saber el avance de su proceso.\n",
    "\n",
    "La página debe ser responsive para poderla ver desde el celular.\n",
    "\n",
    "La preferencia de colores del cliente es azul marino y blanco, pero acepta propuestas."
   ]
  },
  {
   "cell_type": "code",
   "execution_count": null,
   "metadata": {},
   "outputs": [],
   "source": [
    "¡[](arch/1.-Reqierimientos (1).doc)"
   ]
  }
 ],
 "metadata": {
  "interpreter": {
   "hash": "b35ed1df05edd0842942baf167e6250511f44c85ae8ec969dd438632ac46721e"
  },
  "kernelspec": {
   "display_name": "Python 3.9.10 64-bit",
   "language": "python",
   "name": "python3"
  },
  "language_info": {
   "name": "python",
   "version": "3.9.10"
  },
  "orig_nbformat": 4
 },
 "nbformat": 4,
 "nbformat_minor": 2
}
